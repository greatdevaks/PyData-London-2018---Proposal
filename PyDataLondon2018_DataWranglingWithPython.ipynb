{
 "cells": [
  {
   "cell_type": "markdown",
   "metadata": {},
   "source": [
    "# Introduction to Lists in Python:"
   ]
  },
  {
   "attachments": {},
   "cell_type": "markdown",
   "metadata": {},
   "source": [
    "1. List is a group of values that have some relationship in common.\n",
    "2. In Python, a list of items can be created by placing the items within the square brackets ([ ]) and separating them by commas.\n",
    "3. Example 1: my_list = ['apple', 'banana', 'orange']\n",
    "4. Lists can be made using a single data type or a mixture of data types.\n",
    "5. Example 2: my_another_list = ['milk', 2.5, 100]"
   ]
  },
  {
   "cell_type": "code",
   "execution_count": null,
   "metadata": {},
   "outputs": [],
   "source": [
    "#lists in python - example 1\n",
    "my_list = ['apple', 'banana', 'orange']\n",
    "print(my_list)"
   ]
  },
  {
   "cell_type": "code",
   "execution_count": null,
   "metadata": {},
   "outputs": [],
   "source": [
    "#lists in python - example 2\n",
    "my_another_list = ['milk', 2.5, 100]\n",
    "print(my_another_list)"
   ]
  },
  {
   "attachments": {},
   "cell_type": "markdown",
   "metadata": {},
   "source": [
    "# Introdcution to Dictionaries in Python:"
   ]
  },
  {
   "attachments": {},
   "cell_type": "markdown",
   "metadata": {},
   "source": [
    "1. A dictionary is more complex data structure than a list and uses ({ }) instead of ([ ]).\n",
    "2. Dictionary can be thought of as a set of key-value pairs.\n",
    "3. Example 3: my_dict = {'num_people': 20, 'num_cars': 10}\n",
    "4. Dictionaries can also contain a mixture of data types (even lists).\n",
    "5. Example 4: my_another_dict = {'product': 'milk', 'quantity': 2.5}\n",
    "6. Example: my_products_dict = {‘product’: [‘apple’, ‘banana’, ‘orange’]}"
   ]
  },
  {
   "cell_type": "code",
   "execution_count": null,
   "metadata": {},
   "outputs": [],
   "source": [
    "#dictionaries in python - example 3\n",
    "my_dict = {'num_people':  \"hello\",  'num_cars': 10}\n",
    "print(my_dict)"
   ]
  },
  {
   "cell_type": "code",
   "execution_count": null,
   "metadata": {},
   "outputs": [],
   "source": [
    "#dictionaries in python - example 4\n",
    "my_another_dict = {'product': 'milk', 'quantity': 2.5}\n",
    "print(my_another_dict)"
   ]
  },
  {
   "cell_type": "code",
   "execution_count": null,
   "metadata": {},
   "outputs": [],
   "source": [
    "#dictionaries in python - example 5\n",
    "my_products_dict = {'products': ['apple', 'banana', 'orange']}\n",
    "print(my_products_dict)"
   ]
  },
  {
   "cell_type": "markdown",
   "metadata": {},
   "source": [
    "# CSV - Comma-Separated Values - Reading CSV files"
   ]
  },
  {
   "cell_type": "code",
   "execution_count": null,
   "metadata": {},
   "outputs": [],
   "source": [
    "#importing csv library\n",
    "import csv\n",
    "\n",
    "#opening a csv file 'data-text.csv' in read-only and storing this in the variable csvfile\n",
    "#note that 'data-text.csv' file must be stored in same directory as your '.py' file\n",
    "#is in else you need to provide the complete path of the csv file\n",
    "csvfile = open('data-text.csv', 'r')\n",
    "\n",
    "#reading the opened csv file\n",
    "reader = csv.reader(csvfile)\n",
    "\n",
    "#for each row in the csv file, we print that row\n",
    "for row in reader:\n",
    "    print(row)"
   ]
  },
  {
   "cell_type": "markdown",
   "metadata": {},
   "source": [
    "# JSON - JavaScript Object Notation - Reading JSON files"
   ]
  },
  {
   "cell_type": "code",
   "execution_count": null,
   "metadata": {},
   "outputs": [],
   "source": [
    "#importing csv library\n",
    "import json\n",
    "\n",
    "#opening and reading a json file 'data-text.json' and storing this in the variable json_data\n",
    "json_data = open('data-text.json').read()\n",
    "\n",
    "#loading json data in python\n",
    "data = json.loads(json_data)\n",
    "\n",
    "#dispaying the json data\n",
    "for item in data:\n",
    "    print(item)"
   ]
  },
  {
   "cell_type": "markdown",
   "metadata": {},
   "source": [
    "# XML - Extensible Markup Language - Reading XML files"
   ]
  },
  {
   "cell_type": "code",
   "execution_count": null,
   "metadata": {},
   "outputs": [],
   "source": [
    "import xml.etree.ElementTree as ET\n",
    "tree = ET.parse('data-text.xml')\n",
    "root = tree.getroot()\n",
    "\n",
    "data = root.find('Data')\n",
    "\n",
    "all_data = []\n",
    "\n",
    "for observation in data:\n",
    "    record = {}\n",
    "    for item in observation:\n",
    "\n",
    "        lookup_key = list(item.attrib.keys())\n",
    "        my_key = lookup_key[0]\n",
    "        if my_key == 'Numeric':\n",
    "            rec_key = 'NUMERIC'\n",
    "            rec_value = item.attrib['Numeric']\n",
    "        else:\n",
    "            rec_key = item.attrib[my_key]\n",
    "            rec_value = item.attrib['Code']\n",
    "\n",
    "        record[rec_key] = rec_value\n",
    "    all_data.append(record)\n",
    "\n",
    "print(all_data)"
   ]
  },
  {
   "cell_type": "code",
   "execution_count": null,
   "metadata": {
    "collapsed": true
   },
   "outputs": [],
   "source": []
  },
  {
   "cell_type": "code",
   "execution_count": null,
   "metadata": {
    "collapsed": true
   },
   "outputs": [],
   "source": []
  }
 ],
 "metadata": {
  "kernelspec": {
   "display_name": "Python 3",
   "language": "python",
   "name": "python3"
  },
  "language_info": {
   "codemirror_mode": {
    "name": "ipython",
    "version": 3
   },
   "file_extension": ".py",
   "mimetype": "text/x-python",
   "name": "python",
   "nbconvert_exporter": "python",
   "pygments_lexer": "ipython3",
   "version": "3.6.3"
  }
 },
 "nbformat": 4,
 "nbformat_minor": 2
}
